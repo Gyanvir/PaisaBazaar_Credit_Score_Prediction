{
 "cells": [
  {
   "cell_type": "markdown",
   "id": "c368db6b-c7a9-4c10-8e01-3463bb38b3f8",
   "metadata": {},
   "source": [
    "# **Project Name**    - Paisa Bazaar Credit Score Prediction\n",
    "\n",
    "\n"
   ]
  },
  {
   "cell_type": "markdown",
   "id": "1b30e85f-25e8-4941-950f-c08cfb3b22e7",
   "metadata": {},
   "source": [
    "##### **Project Type**    - Supervised Classification\n",
    "##### **Contribution**    - Individual- Gyanvir Singh\n"
   ]
  },
  {
   "cell_type": "markdown",
   "id": "164b8694-7ab4-4721-a53e-5712b50e9c72",
   "metadata": {},
   "source": [
    "# **Project Summary -**"
   ]
  },
  {
   "cell_type": "markdown",
   "id": "70d97d88-eec8-40dc-9d5d-12f0331c956c",
   "metadata": {},
   "source": [
    "This machine learning project focuses on predicting an individual’s credit score category—specifically, whether their credit score is Poor, Standard, or Good. Credit scores are an essential indicator of a person's creditworthiness and play a crucial role in loan approvals, interest rates, and financial risk assessment. By building a model that can classify users based on their credit behavior and financial profile, this project aims to assist financial institutions in making informed, data-driven decisions when evaluating potential borrowers.\n",
    "\n",
    "We began by analyzing a dataset containing 100,000 customer records and 28 columns, which included various features such as Age, Annual_Income, Monthly_Inhand_Salary, Occupation, Num_of_Loan, Outstanding_Debt, and behavioral indicators like Payment_of_Min_Amount and Payment_Behaviour. The target column was Credit_Score, which had three unique values representing different credit categories.\n",
    "\n",
    "The initial phase involved extensive data exploration and cleaning. We checked for missing values, duplicates, and data inconsistencies. Some columns like Credit_Mix had missing entries, which we filled using the most frequent values. Multi-valued fields such as Type_of_Loan were carefully processed to extract individual loan types into binary columns (e.g., \"Auto Loan\", \"Student Loan\", etc.), enabling the model to better understand each customer’s loan history. Unnecessary identifiers such as customer IDs and names were removed, and categorical values were encoded properly. We also applied scaling to numerical features and used square root transformations to reduce skewness in heavily skewed columns like Total_EMI_per_month and Amount_invested_monthly.\n",
    "\n",
    "After preprocessing, we conducted hypothesis testing and exploratory visualizations to understand the relationships between key features and credit score. These visual insights helped us justify why certain features (like number of delayed payments or outstanding debt) were likely to impact a person’s credit score significantly.\n",
    "\n",
    "Before model training, we applied SMOTE (Synthetic Minority Over-sampling Technique) to handle the class imbalance problem, since most customers in the dataset had a \"Standard\" credit score. The data was then split into training and test sets. We first built a baseline Logistic Regression model, which gave a decent performance with around 71% cross-validation accuracy. However, to capture more complex relationships, we trained an XGBoost classifier, which achieved a higher cross-validation accuracy of ~82%, and even after hyperparameter tuning, maintained strong generalization performance.\n",
    "\n",
    "To interpret the model, we analyzed feature importance from the XGBoost classifier. The most influential factors turned out to be Num_of_Loan, Payment_Behaviour, Delay_from_due_date, and Credit_Utilization_Ratio. This not only validated our understanding of creditworthiness but also provided clear business insights—for example, that users with high delays or too many loans are more likely to fall in the “Poor” credit category.\n",
    "\n",
    "In conclusion, this project demonstrates how machine learning can effectively classify credit score categories using real-world financial and behavioral data. The final model is accurate, interpretable, and scalable for production use. With this tool, financial institutions can reduce risks, detect potential defaults early, and personalize credit offerings based on reliable credit scoring predictions. This results in more responsible lending practices and better financial outcomes for both banks and borrowers.\n",
    "\n"
   ]
  },
  {
   "cell_type": "markdown",
   "id": "0307ce17-bdd5-4e89-a8cd-04c577a18c03",
   "metadata": {},
   "source": [
    "# **GitHub Link -**"
   ]
  },
  {
   "cell_type": "markdown",
   "id": "2b70f016-b641-434e-9a99-1f6093412617",
   "metadata": {},
   "source": [
    "https://github.com/Gyanvir/PaisaBazaar_Credit_Score_Prediction"
   ]
  },
  {
   "cell_type": "markdown",
   "id": "451c5cd1-e3fc-4673-b631-6cede6b1b509",
   "metadata": {},
   "source": [
    "# **Problem Statement**\n"
   ]
  },
  {
   "cell_type": "markdown",
   "id": "bd1c037f-ca25-4a52-8d57-61a533ae7d71",
   "metadata": {},
   "source": [
    "The main goal of this project is to build a machine learning model that can predict the credit score category of a person—classified as Poor, Standard, or Good—using various financial, personal, and behavioral features. This classification will help financial institutions in evaluating whether a customer is creditworthy before offering any loans or credit services.\n",
    "\n",
    "The dataset contains detailed records of individuals, including information like their age, income, number of loans, payment behavior, credit history, and other indicators. By analyzing these factors, the project aims to develop a system that can accurately assess a customer’s credit profile and automate the credit scoring process.\n",
    "\n",
    "This predictive model will not only help in reducing manual efforts and inconsistencies in credit evaluation but also support data-driven decision-making in the financial sector. Ultimately, it will assist banks and lending companies in minimizing risk, detecting potentially unreliable borrowers early, and making more informed and fair lending decisions.\n",
    "\n"
   ]
  },
  {
   "cell_type": "markdown",
   "id": "384ad3d3-2458-4421-abcb-5042269940dc",
   "metadata": {},
   "source": [
    "# **Chart Descriptions**\n"
   ]
  },
  {
   "cell_type": "markdown",
   "id": "446e633e-901b-4f46-9744-6d5c7069e0ae",
   "metadata": {},
   "source": [
    "**Chart 1: Distribution of Age**\n",
    "    \n",
    "Why this chart?\n",
    "To understand the age demographics of customers in the dataset.\n",
    "\n",
    "Insights:\n",
    "Most customers are between 20–35 years old, with a sharp drop-off beyond 40.\n",
    "\n",
    "Business Impact:\n",
    "Products like credit cards or digital lending can be targeted toward younger audiences. Age-related segmentation can be critical for credit risk modeling.\n",
    "\n",
    "\n"
   ]
  },
  {
   "cell_type": "markdown",
   "id": "ae7cd700-f8db-456c-b0f6-d20439d563b2",
   "metadata": {},
   "source": [
    "**Chart 2: Count of Occupation**\n",
    "\n",
    "Why this chart?\n",
    "To understand the occupational background of customers.\n",
    "\n",
    "Insights:\n",
    "‘Healthcare’, ‘Engineer’, and ‘Lawyer’ dominate the customer base.\n",
    "\n",
    "Business Impact:\n",
    "Risk tolerance, income stability, and credit product offerings can vary by profession. Useful for building occupation-specific credit models."
   ]
  },
  {
   "cell_type": "markdown",
   "id": "39662890-199c-4b0e-9ab0-c5a7fed597fc",
   "metadata": {},
   "source": [
    "**Chart 3: Target Variable – Credit Score Distribution**\n",
    "\n",
    "Why this chart?\n",
    "To check class balance for model building.\n",
    "\n",
    "Insights:\n",
    "‘Standard’ scores dominate; ‘Good’ is underrepresented.\n",
    "\n",
    "Business Impact:\n",
    "The dataset is imbalanced, so classification models may require sampling or weighted techniques to avoid bias."
   ]
  },
  {
   "cell_type": "markdown",
   "id": "c3dd6575-f109-445a-a09e-40085886b60b",
   "metadata": {},
   "source": [
    "**Chart 4: Annual Income Distribution**\n",
    "\n",
    "Why this chart?\n",
    "To observe the spread of income levels.\n",
    "\n",
    "Insights:\n",
    "Majority earn less than ₹50,000. Skewed distribution.\n",
    "\n",
    "Business Impact:\n",
    "Helps identify low-income segments that may be high risk or need different credit rules. Normalization may be required."
   ]
  },
  {
   "cell_type": "markdown",
   "id": "828f651e-71fe-4527-93d2-2b92af68f5c2",
   "metadata": {},
   "source": [
    "**Chart 5: Number of Bank Accounts**\n",
    "\n",
    "Why this chart?\n",
    "To understand how financially diversified users are.\n",
    "\n",
    "Insights:\n",
    "Most customers have 2–5 accounts. Few have more than 7.\n",
    "\n",
    "Business Impact:\n",
    "Diversification of accounts might relate to financial maturity and credit exposure. Can be an important feature in modeling."
   ]
  },
  {
   "cell_type": "markdown",
   "id": "52c9e5c8-6206-4df4-b603-562c47cfca4b",
   "metadata": {},
   "source": [
    "**Chart 6: Age vs Credit Score**\n",
    "\n",
    "Why this chart?\n",
    "To see if age has a trend with creditworthiness.\n",
    "\n",
    "Insights:\n",
    "Younger people are more likely in the ‘Poor’ category; older individuals skew toward ‘Good’.\n",
    "\n",
    "Business Impact:\n",
    "Age might be a predictor for credit behavior, helping in age-based credit product offerings."
   ]
  },
  {
   "cell_type": "markdown",
   "id": "2c3f62bb-0d51-4c73-b6fd-5caf327e0f43",
   "metadata": {},
   "source": [
    "**Chart 7: Occupation vs Credit Score**\n",
    "\n",
    "Why this chart?\n",
    "To analyze credit score distributions across professions.\n",
    "\n",
    "Insights:\n",
    "‘Scientists’ and ‘Engineers’ have more ‘Good’ scores. ‘Developers’ and ‘Musicians’ have higher ‘Poor’ rates.\n",
    "\n",
    "Business Impact:\n",
    "Could inform profession-based risk profiling or interest rate adjustments.\n"
   ]
  },
  {
   "cell_type": "markdown",
   "id": "fbc676da-6a95-4170-aa51-42227bf56ff8",
   "metadata": {},
   "source": [
    "**Chart 8: Annual Income vs Credit Score**\n",
    "\n",
    "Why this chart?\n",
    "To evaluate how income levels vary across credit score tiers.\n",
    "\n",
    "Insights:\n",
    "Higher income correlates with ‘Good’ scores; ‘Poor’ scores are concentrated at lower income levels.\n",
    "\n",
    "Business Impact:\n",
    "Supports the idea that income is a significant driver of credit health. Can influence feature selection and credit thresholds.\n",
    "\n"
   ]
  },
  {
   "cell_type": "markdown",
   "id": "90c0c072-a1c1-487f-856c-22f0ac2bc1ed",
   "metadata": {},
   "source": [
    "**Chart 9: Number of Loans vs Credit Score**\n",
    "\n",
    "Why this chart?\n",
    "To study how the volume of loans impacts credit health.\n",
    "\n",
    "Insights:\n",
    "Credit score deteriorates as the number of loans increases—especially past 3 loans.\n",
    "\n",
    "Business Impact:\n",
    "Customers with high loan counts can be flagged for risk mitigation or review.\n",
    "\n"
   ]
  },
  {
   "cell_type": "markdown",
   "id": "caa1c7dd-ae09-462e-b80f-7cba84bfab67",
   "metadata": {},
   "source": [
    "**Chart 10: Credit Utilization Ratio vs Credit Score**\n",
    "\n",
    "Why this chart?\n",
    "High utilization is often associated with lower creditworthiness.\n",
    "\n",
    "Insights:\n",
    "‘Poor’ credit holders tend to have significantly higher utilization.\n",
    "\n",
    "Business Impact:\n",
    "Confirms that managing credit utilization is crucial. Strong business signal for feature inclusion."
   ]
  },
  {
   "cell_type": "markdown",
   "id": "cbfd03db-dc6f-4dbc-a1e2-5d354730a01a",
   "metadata": {},
   "source": [
    "**Chart 11: Annual Income vs Monthly Salary by Credit Score**\n",
    "\n",
    "Why this chart?\n",
    "To check if income–salary ratio clusters vary by credit score.\n",
    "\n",
    "Insights:\n",
    "‘Good’ credit scores form a clear upper cluster—high income and stable salary. ‘Poor’ scores are scattered across low-to-mid income.\n",
    "\n",
    "Business Impact:\n",
    "Verifies consistency in income-to-salary behavior. High discrepancy could be a signal for hidden debts or instability."
   ]
  },
  {
   "cell_type": "markdown",
   "id": "daaa51d5-5f14-4041-84a7-811162290d11",
   "metadata": {},
   "source": [
    "**Chart 12: Age vs Number of Loans by Credit Score**\n",
    "\n",
    "Why this chart?\n",
    "To see how credit behavior (loans taken) evolves with age and credit health.\n",
    "\n",
    "Insights:\n",
    "Younger users with many loans often have poor credit scores. Older individuals trend toward fewer loans with better scores.\n",
    "\n",
    "Business Impact:\n",
    "Helps tailor loan offers based on age–loan profile. Prevents over-lending to risk-prone segments."
   ]
  },
  {
   "cell_type": "markdown",
   "id": "306ba79b-5815-4a85-8892-4083f5eab2e5",
   "metadata": {},
   "source": [
    "**Chart 13: Monthly Balance vs Outstanding Debt by Credit Score**\n",
    "\n",
    "Why this chart?\n",
    "To compare financial surplus/deficit across credit types and debt exposure.\n",
    "\n",
    "Insights:\n",
    "Poor scores cluster around low or negative balances despite high debt. Good scores correlate with higher monthly surplus.\n",
    "\n",
    "Business Impact:\n",
    "Strongly justifies inclusion of debt-to-balance ratios in modeling risk."
   ]
  },
  {
   "cell_type": "markdown",
   "id": "9a9d1017-eaae-4b36-a82b-869cf7264f02",
   "metadata": {},
   "source": [
    "**Chart 14: Credit History Age vs Credit Score + Payment of Min Amount**\n",
    "\n",
    "Why this chart?\n",
    "To examine how payment behavior influences long-term credit health.\n",
    "\n",
    "Insights:\n",
    "Those who skip minimum payments have shorter histories and worse scores.\n",
    "\n",
    "Business Impact:\n",
    "Behavioral variables (like Payment_of_Min_Amount) are highly predictive of credit class and longevity."
   ]
  },
  {
   "cell_type": "markdown",
   "id": "5976fc60-66c5-4ab7-9816-324b5bc31f1f",
   "metadata": {},
   "source": [
    "**Chart 15: Credit Mix vs Credit Score vs Credit Utilization**\n",
    "\n",
    "Why this chart?\n",
    "To assess how mix and utilization interact across credit categories.\n",
    "\n",
    "Insights:\n",
    "Good scorers have diverse mix and lower utilization. Poor scorers often have ‘Standard’ mix and higher usage.\n",
    "\n",
    "Business Impact:\n",
    "Emphasizes need to educate users on managing credit mix and lowering utilization to improve score."
   ]
  },
  {
   "cell_type": "markdown",
   "id": "0a570c93-34b5-4dca-8860-6d39701b02ba",
   "metadata": {},
   "source": [
    "# **Model Selections**\n"
   ]
  },
  {
   "cell_type": "markdown",
   "id": "ba12fd3e-8567-4604-a4c0-b2156be639c7",
   "metadata": {},
   "source": [
    "### Logistic Regression\n",
    "\n",
    "**Model Explanation:**  \n",
    "Logistic Regression is a simple, linear classification algorithm that works well for linearly separable data. It assumes a linear relationship between the independent variables and the probability of belonging to a particular class. This model was used as a **baseline** due to its interpretability and ease of implementation.\n",
    "\n",
    "**Performance:**  \n",
    "- Accuracy on test set: **66.06%**  \n",
    "- Cross-Validation Accuracy (5-fold): **71.04%**\n",
    "\n",
    "**Business Interpretation:**  \n",
    "The Logistic Regression model provides a basic understanding of which features might influence credit scores. However, its relatively lower accuracy suggests that it may not capture complex interactions between variables like credit behavior and financial history, which are crucial for making accurate credit risk predictions.\n"
   ]
  },
  {
   "cell_type": "markdown",
   "id": "e004599a-aa89-4f87-a5c1-0a62d298acc7",
   "metadata": {},
   "source": [
    "### XGBoost (Tuned)\n",
    "\n",
    "**Model Explanation:**  \n",
    "XGBoost (Extreme Gradient Boosting) is a powerful tree-based ensemble algorithm known for its high performance on structured/tabular data. It uses gradient boosting techniques to sequentially build strong learners from weak learners and can handle feature interactions, outliers, and missing values effectively.\n",
    "\n",
    "We performed **hyperparameter tuning** using GridSearchCV, and the best parameters found were:\n",
    "```python\n",
    "{'learning_rate': 0.1, 'max_depth': 5, 'n_estimators': 150}\n",
    "```\n",
    "\n",
    "**Performance:**\n",
    "- Accuracy on test set: **77.59%**\n",
    "- Cross-Validation Accuracy (5-fold, default XGBoost): **82.44%**\n",
    "- Cross-Validation Accuracy (with tuned XGBoost): **76.10%**\n",
    "\n",
    "**Business Interpretation:**\n",
    "XGBoost significantly outperformed Logistic Regression in terms of accuracy and consistency. It was able to better capture non-linear relationships in the data, such as how combinations of delayed payments, loan count, and credit utilization affect credit scores. This model is more suitable for real-world credit scoring tasks, where subtle patterns and interactions play a critical role in risk assessment."
   ]
  },
  {
   "cell_type": "markdown",
   "id": "5d422403-8bd7-4d8d-8447-31e9902505dd",
   "metadata": {},
   "source": [
    "# **Final Model Chosen**: Tuned XGBoost\n",
    "\n",
    "Even though the tuned XGBoost model had a slightly lower cross-validation score than the untuned one, we selected it for the following reasons:\n",
    "- It reduces the risk of overfitting by using more conservative hyperparameters.\n",
    "- It generalizes better across unseen data (as seen in test accuracy: 77.59%).\n",
    "- The tuning process makes the model more robust and interpretable for production environments.\n",
    "\n",
    "Overall, the tuned XGBoost model strikes the right balance between accuracy, stability, and business usefulness — making it the best fit for predicting credit score categories in this project."
   ]
  }
 ],
 "metadata": {
  "kernelspec": {
   "display_name": "Python 3 (ipykernel)",
   "language": "python",
   "name": "python3"
  },
  "language_info": {
   "codemirror_mode": {
    "name": "ipython",
    "version": 3
   },
   "file_extension": ".py",
   "mimetype": "text/x-python",
   "name": "python",
   "nbconvert_exporter": "python",
   "pygments_lexer": "ipython3",
   "version": "3.12.4"
  }
 },
 "nbformat": 4,
 "nbformat_minor": 5
}
